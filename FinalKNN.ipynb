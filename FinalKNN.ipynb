{
 "cells": [
  {
   "cell_type": "markdown",
   "metadata": {},
   "source": [
    "# Working on Dataset by building KNN Classifier"
   ]
  },
  {
   "cell_type": "markdown",
   "metadata": {},
   "source": [
    "Import Dataset from UCI Repository"
   ]
  },
  {
   "cell_type": "code",
   "execution_count": 23,
   "metadata": {},
   "outputs": [],
   "source": [
    "import numpy as np\n",
    "import pandas as pd\n",
    "from sklearn.datasets import load_breast_cancer\n",
    "from sklearn import preprocessing\n",
    "from datetime import datetime"
   ]
  },
  {
   "cell_type": "markdown",
   "metadata": {},
   "source": [
    "Merge the features and targets into a single Dataset and preprocess it by normalization"
   ]
  },
  {
   "cell_type": "code",
   "execution_count": 24,
   "metadata": {},
   "outputs": [],
   "source": [
    "#KNN\n",
    "#Start here\n",
    "\n",
    "X = load_breast_cancer()['data']\n",
    "y = load_breast_cancer()['target']\n",
    "names = load_breast_cancer()['feature_names']\n",
    "\n",
    "\n",
    "full_df = pd.DataFrame(X, columns = names)\n",
    "full_df['target'] = y\n",
    "dtTemp = full_df.iloc[:,:-1]\n",
    "x = full_df.iloc[:,:-1].values\n",
    "min_max_scaler = preprocessing.MinMaxScaler(feature_range = (0,3))\n",
    "x_scaled = min_max_scaler.fit_transform(x)\n",
    "NormalizedDT = pd.DataFrame(x_scaled,columns=dtTemp.columns)\n",
    "full_df = NormalizedDT\n",
    "full_df['target'] = y"
   ]
  },
  {
   "cell_type": "markdown",
   "metadata": {},
   "source": [
    "KNN Classifier which gives back a prediction list"
   ]
  },
  {
   "cell_type": "code",
   "execution_count": 25,
   "metadata": {},
   "outputs": [],
   "source": [
    "def KNN_Classifier(dataFrame, unknown, K, min = 0, max = 1, p=2):\n",
    "    import pandas as pd\n",
    "    import numpy as np\n",
    "    def Minkosky_Distance(dataFrame, unknown, p, k, min_normalization = 0, max_normalization = 1):\n",
    "        features = dataFrame.columns[:-1]\n",
    "        unknown_df = pd.DataFrame(unknown.reshape(1,len(features)), columns = features)\n",
    "        df2 = pd.DataFrame()\n",
    "        \n",
    "        for feature in features:\n",
    "            attr_max = dataFrame.describe()[feature][-1]\n",
    "            attr_min = dataFrame.describe()[feature][3]\n",
    "            df2[feature] = dataFrame[feature].map(lambda x: ((x-attr_min)*(max_normalization-min_normalization)/(attr_max-attr_min))-min_normalization)\n",
    "            z = unknown_df[feature]\n",
    "            unknown_df[feature] = ((z-attr_min)*(max_normalization-min_normalization)/(attr_max-attr_min))-min_normalization\n",
    "        df2['target'] = dataFrame['target']\n",
    "        X = df2.iloc[:,:-1]\n",
    "        data = map(lambda row: list(map(lambda x,y: (abs(x-y))**p, row, unknown)),X.values)\n",
    "\n",
    "        new_df = pd.DataFrame(data, columns = features)\n",
    "        result = new_df.sum(axis=1).map(lambda total: total**(1/p)).sort_values(ascending=True)[:K]\n",
    "        return result\n",
    "    \n",
    "    \n",
    "    result = Minkosky_Distance(dataFrame, unknown, p, K, min_normalization = min, max_normalization = max)\n",
    "    \n",
    "    return dataFrame.iloc[list(result.index),:]['target'].value_counts().index[0]\n",
    "    \n",
    "\n",
    "def KNN_Multiple(dataFrame, test_data, K=3, min = 0, max = 1, p=2):\n",
    "    import pandas as pd\n",
    "    import numpy as np\n",
    "    prediction = []\n",
    "    for i in range(len(test_data)):\n",
    "        prediction.append(KNN_Classifier(dataFrame, np.array(test_data.iloc[i]), K=3, min = 0, max = 1, p=2))"
   ]
  },
  {
   "cell_type": "markdown",
   "metadata": {},
   "source": [
    "Splitting the dataset and also defining CV functions"
   ]
  },
  {
   "cell_type": "code",
   "execution_count": 26,
   "metadata": {},
   "outputs": [],
   "source": [
    "def Train_Test_Split(dataFrame, k_fold = 10):\n",
    "    \n",
    "    n = math.ceil(len(dataFrame)/k_fold)\n",
    "    \n",
    "    train_test_list = []\n",
    "        \n",
    "    for i in range(k_fold):\n",
    "        temp_tuple = (pd.concat([dataFrame[:(i*n)],dataFrame[((i+1)*n):]]),dataFrame[(i*n):((i+1)*n)])\n",
    "        train_test_list.append(temp_tuple)\n",
    "        \n",
    "    return train_test_list\n",
    "        \n",
    "def Classifier(train_set,test_set, prediction):\n",
    "    import pandas as pd\n",
    "    import numpy as np\n",
    "    X_train = train_set.iloc[:,:-1]\n",
    "    y_train = train_set.iloc[:,-1]\n",
    "    \n",
    "    X_test = test_set.iloc[:,:-1]\n",
    "    y_test = np.array(test_set.iloc[:,-1])  \n",
    "    \n",
    "    correct = 0\n",
    "    for i in range(len(y_test)):\n",
    "        if y_test[i] == prediction[i]:\n",
    "            correct += 1\n",
    "    return correct / float(len(y_test))\n",
    "\n",
    "def KFold_CV(real,predicted,dataFrame):\n",
    "    import pandas as pd\n",
    "    import numpy as np\n",
    "    total = len(dataFrame)\n",
    "    correct = 0\n",
    "    for i in range(len(real)):\n",
    "        for j in range(len(real[i])):\n",
    "            if (real[i][j] == predicted[i][j]):\n",
    "                correct += 1"
   ]
  },
  {
   "cell_type": "markdown",
   "metadata": {},
   "source": [
    "Calling the defined Cross Validation Functions"
   ]
  },
  {
   "cell_type": "code",
   "execution_count": 27,
   "metadata": {},
   "outputs": [],
   "source": [
    "from KNN import KNN_Classifier, KNN_Multiple\n",
    "from CrossValidation import Train_Test_Split, Classifier, KFold_CV "
   ]
  },
  {
   "cell_type": "markdown",
   "metadata": {},
   "source": [
    "Splitting the data into Testing and training sets"
   ]
  },
  {
   "cell_type": "code",
   "execution_count": 28,
   "metadata": {},
   "outputs": [],
   "source": [
    "split_data = Train_Test_Split(full_df)"
   ]
  },
  {
   "cell_type": "markdown",
   "metadata": {},
   "source": [
    "Create a prediction list with Timestamps"
   ]
  },
  {
   "cell_type": "code",
   "execution_count": 29,
   "metadata": {
    "scrolled": true
   },
   "outputs": [
    {
     "name": "stdout",
     "output_type": "stream",
     "text": [
      "date and time = 30/11/2019 17:56:41\n",
      "date and time = 30/11/2019 18:12:14\n",
      "date and time = 30/11/2019 18:12:19\n",
      "date and time = 30/11/2019 18:27:22\n",
      "date and time = 30/11/2019 18:27:22\n",
      "date and time = 30/11/2019 18:42:49\n",
      "date and time = 30/11/2019 18:42:50\n",
      "date and time = 30/11/2019 18:58:00\n",
      "date and time = 30/11/2019 18:58:00\n",
      "date and time = 30/11/2019 19:12:57\n"
     ]
    }
   ],
   "source": [
    "y_pred_list = []\n",
    "\n",
    "for fold in split_data:\n",
    "\n",
    "    now = datetime.now()\n",
    "    dt_string = now.strftime(\"%d/%m/%Y %H:%M:%S\")\n",
    "    print(\"date and time =\", dt_string)\n",
    "    \n",
    "    y_pred = KNN_Multiple(fold[0],fold[1].iloc[:,:-1])\n",
    "    y_pred_list.append(y_pred)\n",
    "    \n",
    "    now = datetime.now()\n",
    "    dt_string = now.strftime(\"%d/%m/%Y %H:%M:%S\")\n",
    "    print(\"date and time =\", dt_string)"
   ]
  },
  {
   "cell_type": "markdown",
   "metadata": {},
   "source": [
    "Create a testing target list"
   ]
  },
  {
   "cell_type": "code",
   "execution_count": 30,
   "metadata": {},
   "outputs": [],
   "source": [
    "y_test_list = []\n",
    "for fold in split_data:\n",
    "    y_test = list(fold[1].iloc[:,-1].values)\n",
    "    y_test_list.append(y_test)"
   ]
  },
  {
   "cell_type": "markdown",
   "metadata": {},
   "source": [
    "Calling the function which compares and returns the accuracy"
   ]
  },
  {
   "cell_type": "code",
   "execution_count": 31,
   "metadata": {},
   "outputs": [
    {
     "data": {
      "text/plain": [
       "96.13356766256591"
      ]
     },
     "execution_count": 31,
     "metadata": {},
     "output_type": "execute_result"
    }
   ],
   "source": [
    "KFold_CV(y_test_list,y_pred_list,full_df)"
   ]
  },
  {
   "cell_type": "markdown",
   "metadata": {},
   "source": [
    "# THANK YOU"
   ]
  },
  {
   "cell_type": "code",
   "execution_count": null,
   "metadata": {},
   "outputs": [],
   "source": []
  }
 ],
 "metadata": {
  "kernelspec": {
   "display_name": "Python 3",
   "language": "python",
   "name": "python3"
  },
  "language_info": {
   "codemirror_mode": {
    "name": "ipython",
    "version": 3
   },
   "file_extension": ".py",
   "mimetype": "text/x-python",
   "name": "python",
   "nbconvert_exporter": "python",
   "pygments_lexer": "ipython3",
   "version": "3.7.3"
  }
 },
 "nbformat": 4,
 "nbformat_minor": 4
}
